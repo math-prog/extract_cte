{
 "cells": [
  {
   "cell_type": "code",
   "execution_count": 1,
   "metadata": {},
   "outputs": [],
   "source": [
    "import xml.etree.ElementTree as ET\n",
    "\n",
    "from xml.dom import minidom"
   ]
  },
  {
   "cell_type": "code",
   "execution_count": 9,
   "metadata": {},
   "outputs": [
    {
     "name": "stdout",
     "output_type": "stream",
     "text": [
      "175784\n"
     ]
    }
   ],
   "source": [
    "file = \"../data/raw/52221201610798004739570010001757841656571610-cte.xml\"\n",
    "\n",
    "root = ET.parse(file).getroot()\n",
    "\n",
    "nsCTE = { 'ns': \"http://www.portalfiscal.inf.br/cte\"}\n",
    "\n",
    "numCTe = root.find('ns:CTe/ns:infCte/ns:ide/ns:nCT', nsCTE)\n",
    "print(numCTe.text)"
   ]
  },
  {
   "cell_type": "code",
   "execution_count": 15,
   "metadata": {},
   "outputs": [
    {
     "name": "stdout",
     "output_type": "stream",
     "text": [
      "142.27\n"
     ]
    }
   ],
   "source": [
    "fretePeso_CTe = root.find('ns:CTe/ns:infCte/ns:vPrest/ns:Comp/ns:vComp', nsCTE)\n",
    "print(fretePeso_CTe.text)"
   ]
  },
  {
   "cell_type": "code",
   "execution_count": null,
   "metadata": {},
   "outputs": [],
   "source": []
  }
 ],
 "metadata": {
  "kernelspec": {
   "display_name": "Python 3.10.9 ('ExtractCte')",
   "language": "python",
   "name": "python3"
  },
  "language_info": {
   "codemirror_mode": {
    "name": "ipython",
    "version": 3
   },
   "file_extension": ".py",
   "mimetype": "text/x-python",
   "name": "python",
   "nbconvert_exporter": "python",
   "pygments_lexer": "ipython3",
   "version": "3.10.9"
  },
  "orig_nbformat": 4,
  "vscode": {
   "interpreter": {
    "hash": "7de477e9f70d7d0431badfcc9b304723f611f3fa859eb3f2307b271e5ee948b3"
   }
  }
 },
 "nbformat": 4,
 "nbformat_minor": 2
}
